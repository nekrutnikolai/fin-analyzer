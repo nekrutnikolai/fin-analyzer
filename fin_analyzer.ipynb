{
 "cells": [
  {
   "cell_type": "code",
   "execution_count": 1,
   "metadata": {},
   "outputs": [
    {
     "data": {
      "text/plain": [
       "'en_US'"
      ]
     },
     "execution_count": 1,
     "metadata": {},
     "output_type": "execute_result"
    }
   ],
   "source": [
    "import numpy as np\n",
    "import pandas as pd\n",
    "import locale\n",
    "\n",
    "# since we are using USD\n",
    "locale.setlocale(locale.LC_ALL, 'en_US')"
   ]
  },
  {
   "cell_type": "markdown",
   "metadata": {},
   "source": [
    "Future Ideas:\n",
    "- Adjustments showing up as extra\n",
    "- Credit Card payments taking days to cancel out\n",
    "- Concotenate data tables as more recent ones will be monthly\n",
    "- Use Plaid to get most recent financial data"
   ]
  },
  {
   "cell_type": "code",
   "execution_count": 2,
   "metadata": {},
   "outputs": [],
   "source": [
    "## --- USER-MODIFIABLE VALUES --- ##\n",
    "\n",
    "# specify the exact pathname of the files\n",
    "checking_loc = '/.../checking.csv' # MODIFY\n",
    "savings_loc = '/.../savings.csv' # MODIFY\n",
    "credit_card_loc = '/.../credit_card.csv' # MODIFY\n",
    "\n",
    "# specify the location of the output file\n",
    "output_loc = '/.../combined_data.csv' # MODIFY\n",
    "\n",
    "# current balance of all accounts [modify], all positive numbers\n",
    "# done because you can't actually download all of your financial data ever\n",
    "checking_balance = 1000.00 # MODIFY\n",
    "savings_balance = 1000.00 # MODIFY\n",
    "credit_balance = 500.00 # MODIFY\n",
    "\n",
    "# most recent transactions at top of spreadsheet (True)/oldest transactions at top of spreadsheet (False)\n",
    "reverse_order = True # MODIFY\n",
    "\n",
    "# calculation of the adjusted balance from values specific above\n",
    "adj_balance = checking_balance + savings_balance - credit_balance"
   ]
  },
  {
   "cell_type": "code",
   "execution_count": 3,
   "metadata": {},
   "outputs": [],
   "source": [
    "# create the dataframes form the csv files\n",
    "checking_df = pd.read_csv(checking_loc)\n",
    "savings_df = pd.read_csv(savings_loc)\n",
    "credit_card_df = pd.read_csv(credit_card_loc)"
   ]
  },
  {
   "cell_type": "code",
   "execution_count": 4,
   "metadata": {},
   "outputs": [
    {
     "name": "stderr",
     "output_type": "stream",
     "text": [
      "/var/folders/ts/2527553x64jdr9dphwbz4rxc0000gn/T/ipykernel_97619/304135562.py:29: UserWarning: Could not infer format, so each element will be parsed individually, falling back to `dateutil`. To ensure parsing is consistent and as-expected, please specify a format.\n",
      "  checking_df['Date'] = pd.to_datetime(checking_df['Date'])\n",
      "/var/folders/ts/2527553x64jdr9dphwbz4rxc0000gn/T/ipykernel_97619/304135562.py:30: UserWarning: Could not infer format, so each element will be parsed individually, falling back to `dateutil`. To ensure parsing is consistent and as-expected, please specify a format.\n",
      "  savings_df['Date'] = pd.to_datetime(savings_df['Date'])\n"
     ]
    }
   ],
   "source": [
    "# Delete useless columns\n",
    "del checking_df['Reference No.']\n",
    "del checking_df['Credits']\n",
    "del checking_df['Debits']\n",
    "del checking_df['Transaction Type']\n",
    "del savings_df['Reference No.']\n",
    "del savings_df['Credits']\n",
    "del savings_df['Debits']\n",
    "del savings_df['Transaction Type']\n",
    "del credit_card_df['Post Date']\n",
    "\n",
    "# Rename columns for simplicity\n",
    "credit_card_df.rename(columns={'Trans. Date': 'Date'}, inplace=True)\n",
    "checking_df.rename(columns={'Account Type': 'Account'}, inplace=True)\n",
    "savings_df.rename(columns={'Account Type': 'Account'}, inplace=True)\n",
    "\n",
    "# Clean up extra spaces\n",
    "checking_df['Description'] = checking_df['Description'].str.replace(r'\\s{2,}', ' ', regex=True)\n",
    "savings_df['Description'] = checking_df['Description'].str.replace(r'\\s{2,}', ' ', regex=True)\n",
    "#credit_card_df['Description'] = checking_df['Description'].str.replace(r'\\s{2,}', ' ', regex=True)\n",
    "\n",
    "# Keep consistency across columns\n",
    "checking_df['Category'] = ''\n",
    "savings_df['Category'] = ''\n",
    "credit_card_df['Account'] = 'Credit Card'\n",
    "credit_card_df = credit_card_df.reindex(columns = ['Date', 'Account', 'Description', 'Amount', 'Category'])\n",
    "\n",
    "# Add dates to the values\n",
    "checking_df['Date'] = pd.to_datetime(checking_df['Date'])\n",
    "savings_df['Date'] = pd.to_datetime(savings_df['Date'])\n",
    "credit_card_df['Date'] = pd.to_datetime(credit_card_df['Date'])\n",
    "\n",
    "# Reverse the Credit Card values, since positive is spendings and vice-versa\n",
    "credit_card_df['Amount'] = credit_card_df['Amount'] * -1"
   ]
  },
  {
   "cell_type": "code",
   "execution_count": 5,
   "metadata": {},
   "outputs": [],
   "source": [
    "# Concatenate the dataframes vertically into a single dataframe\n",
    "combined_df = pd.concat([checking_df, savings_df, credit_card_df], ignore_index=True)\n",
    "\n",
    "# Sort the combined DataFrame by the 'Date' column\n",
    "combined_df.sort_values(by='Date', ascending=True, inplace=True)\n",
    "\n",
    "# Reset the index (optional)\n",
    "combined_df.reset_index(drop=True, inplace=True)\n",
    "\n",
    "# If user specifies most recent transactions at the top\n",
    "if reverse_order:\n",
    "    # Now, show the most recent transactions on top\n",
    "    combined_df.sort_values(by='Date', ascending=False, inplace=True)\n",
    "\n",
    "    # Calculate the total given the reverse order\n",
    "    combined_df['Total'] = combined_df.loc[::-1, 'Amount'].cumsum()[::-1]\n",
    "\n",
    "    # Factor in the adjustment values as the data can be behind & not super current\n",
    "    combined_df['Total'] += (adj_balance - combined_df['Total'].iloc[0])\n",
    "\n",
    "# If user wants most recent transactions at the bottom\n",
    "else:\n",
    "    # Add the total value column\n",
    "    combined_df['Total'] = combined_df['Amount'].cumsum()\n",
    "\n",
    "    # Factor in the adjustment values as the data can be behind & not super current\n",
    "    combined_df['Total'] += (adj_balance - combined_df['Total'].iloc[-1])\n",
    "\n",
    "# Convert to USD\n",
    "combined_df['Amount'] = combined_df['Amount'].apply(lambda x: locale.currency(x, grouping=True))\n",
    "combined_df['Total'] = combined_df['Total'].apply(lambda x: locale.currency(x, grouping=True))\n",
    "\n",
    "# re-ordering the columns\n",
    "combined_df = combined_df.reindex(columns = ['Date', 'Account', 'Category', 'Description', 'Amount', 'Total'])\n",
    "\n",
    "# Export the combined and sorted DataFrame to a CSV file\n",
    "# Then, this exported csv can be copied and pasted into a Google Sheet\n",
    "combined_df.to_csv(output_loc, index=False)"
   ]
  }
 ],
 "metadata": {
  "kernelspec": {
   "display_name": "Python 3 (ipykernel)",
   "language": "python",
   "name": "python3"
  },
  "language_info": {
   "codemirror_mode": {
    "name": "ipython",
    "version": 3
   },
   "file_extension": ".py",
   "mimetype": "text/x-python",
   "name": "python",
   "nbconvert_exporter": "python",
   "pygments_lexer": "ipython3",
   "version": "3.10.10"
  },
  "orig_nbformat": 4
 },
 "nbformat": 4,
 "nbformat_minor": 2
}
